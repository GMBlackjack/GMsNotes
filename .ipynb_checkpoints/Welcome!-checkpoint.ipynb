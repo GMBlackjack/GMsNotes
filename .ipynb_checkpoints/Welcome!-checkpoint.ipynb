{
 "cells": [
  {
   "cell_type": "markdown",
   "id": "5d2f671f",
   "metadata": {},
   "source": [
    "Welcome to my repository! This is mostly for me to reference back to work I've done in the past and potentially store any proofs I do or incomplete paper/science ideas. But I will do my best to keep things explainable for anyone. \n",
    "\n",
    "This notebook here is just a high-level one intended to catalog what sorts of things are in the repository in an easy-to-access way. \n",
    "\n",
    "Notebooks by default will support Python 3 and LaTeX. I am likely to make extensive use of the latter, and the former will only show up when it's easier to demonstrate something via code or graphs. \n",
    "\n",
    "So, what can we find here? (Besides a bunch of silly-snarky one liners). "
   ]
  },
  {
   "cell_type": "markdown",
   "id": "5f8e5574",
   "metadata": {},
   "source": [
    "# TITAN\n",
    "\n",
    "For information about Titan, recorded from the top to the bottom. Will presumably never be complete as new information continually comes out at all times."
   ]
  },
  {
   "cell_type": "markdown",
   "id": "4916bca4",
   "metadata": {},
   "source": [
    "# GATHERED PAPERS\n",
    "\n",
    "A bunch of notebooks discussing various papers I've read and think are useful. (Or are explicitly not useful). Intended mainly to be used to remember \"now where did I read that information?\" "
   ]
  },
  {
   "cell_type": "markdown",
   "id": "b95758a0",
   "metadata": {},
   "source": [
    "# MY PAPERS\n",
    "\n",
    "My papers and work related to them will go in here. When I have any. "
   ]
  },
  {
   "cell_type": "markdown",
   "id": "accb88ee",
   "metadata": {},
   "source": [
    "# SCRATCH WORK\n",
    "\n",
    "If I just need to work something out, it'll go here. I expect proofs of concepts and perhaps mathematical things. Maybe even managerial code that won't be part of a paper."
   ]
  },
  {
   "cell_type": "code",
   "execution_count": null,
   "id": "5dccfd67",
   "metadata": {},
   "outputs": [],
   "source": []
  }
 ],
 "metadata": {
  "kernelspec": {
   "display_name": "Python 3 (ipykernel)",
   "language": "python",
   "name": "python3"
  },
  "language_info": {
   "codemirror_mode": {
    "name": "ipython",
    "version": 3
   },
   "file_extension": ".py",
   "mimetype": "text/x-python",
   "name": "python",
   "nbconvert_exporter": "python",
   "pygments_lexer": "ipython3",
   "version": "3.11.4"
  }
 },
 "nbformat": 4,
 "nbformat_minor": 5
}
