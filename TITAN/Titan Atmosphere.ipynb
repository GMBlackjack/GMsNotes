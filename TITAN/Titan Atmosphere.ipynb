{
 "cells": [
  {
   "cell_type": "markdown",
   "id": "87e77a8f",
   "metadata": {},
   "source": [
    "# Titan's Atmosphere\n",
    "\n",
    "## Always in the way\n",
    "\n",
    "### But also arguably the most fascinating thing about the rock\n",
    "\n",
    "All right so you want to know about Titan's atmosphere. Well buckle up because it's a complicated mess even considering that we don't know all that much! As we can observe the atmosphere we certainly know more about it than, say, the surface, but that often just leads to more questions. It's extensive, it's big, and we totally don't know enough. \n",
    "\n",
    "This notebook is separated into major sections based on how close we're looking at the atmosphere. The first is **As A Whole**, where we look at the atmosphere as one object. Then we go into **Layers** which is normally how we look at Earth's atmosphere as well. However, Titan is not spherically symmetric in its atmosphere, so then we go to **Variations**. Then we look into **Localized Phenomena** such as clouds, storms, and other such weird things that are generally temporary. Lastly there is a **Methods** section describing how we do \"science\" with the atmosphere. (Both simulations and observations...?) \n",
    "\n",
    "In general it's a good idea to know this: the atmosphere is the thing we know the most about when it comes to Titan, as we can actually see it and get data about it directly. The problem is that it's also the thing preventing us from getting *other* data about Titan; namely the surface. Annoying but also fascinating. \n",
    "\n",
    "Organization is subject to change of course."
   ]
  },
  {
   "cell_type": "markdown",
   "id": "616781e7",
   "metadata": {},
   "source": [
    "# As A Whole"
   ]
  },
  {
   "cell_type": "markdown",
   "id": "82d6b481",
   "metadata": {},
   "source": []
  },
  {
   "cell_type": "markdown",
   "id": "07c1db7b",
   "metadata": {},
   "source": [
    "# Layers"
   ]
  },
  {
   "cell_type": "markdown",
   "id": "51b3203d",
   "metadata": {},
   "source": []
  },
  {
   "cell_type": "markdown",
   "id": "c0d71eb0",
   "metadata": {},
   "source": [
    "# Variations"
   ]
  },
  {
   "cell_type": "markdown",
   "id": "722875dc",
   "metadata": {},
   "source": []
  },
  {
   "cell_type": "markdown",
   "id": "1241ea43",
   "metadata": {},
   "source": [
    "# Localized Phenomena"
   ]
  },
  {
   "cell_type": "markdown",
   "id": "cd65f853",
   "metadata": {},
   "source": []
  },
  {
   "cell_type": "markdown",
   "id": "75d0e995",
   "metadata": {},
   "source": [
    "# Methods"
   ]
  },
  {
   "cell_type": "markdown",
   "id": "ff616f60",
   "metadata": {},
   "source": []
  },
  {
   "cell_type": "markdown",
   "id": "14ac471a",
   "metadata": {},
   "source": [
    "# References"
   ]
  },
  {
   "cell_type": "markdown",
   "id": "822555ed",
   "metadata": {},
   "source": []
  }
 ],
 "metadata": {
  "kernelspec": {
   "display_name": "Python 3 (ipykernel)",
   "language": "python",
   "name": "python3"
  },
  "language_info": {
   "codemirror_mode": {
    "name": "ipython",
    "version": 3
   },
   "file_extension": ".py",
   "mimetype": "text/x-python",
   "name": "python",
   "nbconvert_exporter": "python",
   "pygments_lexer": "ipython3",
   "version": "3.11.4"
  }
 },
 "nbformat": 4,
 "nbformat_minor": 5
}
