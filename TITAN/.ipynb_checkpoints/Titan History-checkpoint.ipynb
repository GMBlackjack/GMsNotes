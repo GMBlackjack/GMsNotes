{
 "cells": [
  {
   "cell_type": "markdown",
   "id": "824d71f9",
   "metadata": {},
   "source": [
    "# Titan History\n",
    "\n",
    "## From the first sight in the sky to the future of Dragonfly\n",
    "\n",
    "### Surprisingly hard to find scholarly sources for historic information... "
   ]
  },
  {
   "cell_type": "markdown",
   "id": "4e0ef0d8",
   "metadata": {},
   "source": [
    "The history of Titan and humanity has been a strange one, but let's see just how weird it can get. "
   ]
  },
  {
   "cell_type": "markdown",
   "id": "344873b8",
   "metadata": {},
   "source": [
    "# Discovery"
   ]
  },
  {
   "cell_type": "markdown",
   "id": "e7df767a",
   "metadata": {},
   "source": [
    "On March 25 1655, Christiaan Huygens discovered Titan, and he announced the discovery a year later [1]. "
   ]
  },
  {
   "cell_type": "markdown",
   "id": "9e8005e1",
   "metadata": {},
   "source": [
    "# Distant Observations"
   ]
  },
  {
   "cell_type": "markdown",
   "id": "a183afc6",
   "metadata": {},
   "source": [
    "# Pioneer"
   ]
  },
  {
   "cell_type": "markdown",
   "id": "52fe9aad",
   "metadata": {},
   "source": [
    "# Voyager"
   ]
  },
  {
   "cell_type": "markdown",
   "id": "5cdfba94",
   "metadata": {},
   "source": [
    "# Cassini-Huygens"
   ]
  },
  {
   "cell_type": "markdown",
   "id": "df4f99d6",
   "metadata": {},
   "source": [
    "# The Future: Dragonfly"
   ]
  },
  {
   "cell_type": "markdown",
   "id": "468138f9",
   "metadata": {},
   "source": [
    "# Sources\n",
    "\n",
    "[1] **Lorenz and Mitton, 2002**: Lifting Titan's Veil: Exploring the Giant Moon of Saturn\n",
    "\n",
    "https://web.archive.org/web/20050222073209/https://assets.cambridge.org/052179/3483/sample/0521793483ws.pdf\n",
    "\n",
    "[2] ****\n",
    "\n",
    "https://archive.org/details/Resultsastronom00Hers/page/414/mode/2up?view=theater&q=Titan\n",
    "\n",
    "[3] ****\n",
    "\n",
    "https://articles.adsabs.harvard.edu/pdf/1944ApJ...100..378K"
   ]
  }
 ],
 "metadata": {
  "kernelspec": {
   "display_name": "Python 3 (ipykernel) auto",
   "language": "python",
   "name": "python3"
  },
  "language_info": {
   "codemirror_mode": {
    "name": "ipython",
    "version": 3
   },
   "file_extension": ".py",
   "mimetype": "text/x-python",
   "name": "python",
   "nbconvert_exporter": "python",
   "pygments_lexer": "ipython3",
   "version": "3.9.17"
  }
 },
 "nbformat": 4,
 "nbformat_minor": 5
}
