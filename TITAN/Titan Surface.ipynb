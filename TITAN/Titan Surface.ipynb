{
 "cells": [
  {
   "cell_type": "markdown",
   "id": "c087c74c",
   "metadata": {},
   "source": [
    "# Titan's Surface\n",
    "\n",
    "## One Day, we Might Walk These Roads...\n",
    "\n",
    "### Or our children anyway.\n",
    "\n",
    "Once you peer through the clouds you see the surface of the mysterious world below... an icy world of hydrocarbon lakes, mysterious labyrinths, and dunes of unknown composition. \n",
    "\n",
    "Unfortunately the haze makes it hard to see down here so we only have genreal ideas of what there is, recovered from radar and IR windows for the most part. \n",
    "\n",
    "This notebook will be split into two main subsections: Broad Features and Specific Features. Broad Features exist on a global or semi-global scale, while Specific Features are localized. For instance, Broad Features includes \"craters\" as a concept, but a Specific Feature would be Selk Crater. "
   ]
  },
  {
   "cell_type": "markdown",
   "id": "eb29170b",
   "metadata": {},
   "source": [
    "# Broad Features"
   ]
  },
  {
   "cell_type": "markdown",
   "id": "1c5a92b6",
   "metadata": {},
   "source": [
    "## The Blandlands"
   ]
  },
  {
   "cell_type": "markdown",
   "id": "f8d8f4ec",
   "metadata": {},
   "source": [
    "The majority of Titan is this... flat, boring stuff with no discernable features. Technically known as the \"undiffernetiated plains,\" but Blandlands is far more descriptive. This does not mean they aren't interesting, though, they are as mysterious and unknown as the other terrain types..."
   ]
  },
  {
   "cell_type": "markdown",
   "id": "f6c622c2",
   "metadata": {},
   "source": [
    "## The Dunes"
   ]
  },
  {
   "cell_type": "markdown",
   "id": "ccbf6f48",
   "metadata": {},
   "source": [
    "We thought we understood sand. This turned out to be a huge mistake. They were deemed not to be possible [] but then found anyway []. "
   ]
  },
  {
   "cell_type": "markdown",
   "id": "e677b2c0",
   "metadata": {},
   "source": [
    "## \"Hummocky\" Terrain"
   ]
  },
  {
   "cell_type": "markdown",
   "id": "e12a545f",
   "metadata": {},
   "source": [
    "## The Labyrinths"
   ]
  },
  {
   "cell_type": "markdown",
   "id": "06d75aad",
   "metadata": {},
   "source": [
    "## The Lakes and Seas"
   ]
  },
  {
   "cell_type": "markdown",
   "id": "7efada4a",
   "metadata": {},
   "source": [
    "## The Craters"
   ]
  },
  {
   "cell_type": "markdown",
   "id": "c0dfee91",
   "metadata": {},
   "source": [
    "# Specific Features"
   ]
  },
  {
   "cell_type": "markdown",
   "id": "f5977364",
   "metadata": {},
   "source": [
    "## References\n",
    "\n",
    "[1] **Lopes et al, 2020**: A Global Geomorphologic Map of Saturn's Moon Titan\n",
    "\n",
    "https://www.ncbi.nlm.nih.gov/pmc/articles/PMC7271969/\n",
    "\n",
    "[2] **Lopes et al, 2016**: Nature, Distribution, and Origin of Titan's Undifferentiated Plains\n",
    "\n",
    "https://www.sciencedirect.com/science/article/pii/S0019103515005576"
   ]
  },
  {
   "cell_type": "code",
   "execution_count": null,
   "id": "f2a15028",
   "metadata": {},
   "outputs": [],
   "source": []
  }
 ],
 "metadata": {
  "kernelspec": {
   "display_name": "Python 3 (ipykernel)",
   "language": "python",
   "name": "python3"
  },
  "language_info": {
   "codemirror_mode": {
    "name": "ipython",
    "version": 3
   },
   "file_extension": ".py",
   "mimetype": "text/x-python",
   "name": "python",
   "nbconvert_exporter": "python",
   "pygments_lexer": "ipython3",
   "version": "3.11.4"
  }
 },
 "nbformat": 4,
 "nbformat_minor": 5
}
