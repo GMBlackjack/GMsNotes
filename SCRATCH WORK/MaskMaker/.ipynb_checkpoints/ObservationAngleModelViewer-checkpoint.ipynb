{
 "cells": [
  {
   "cell_type": "markdown",
   "id": "6d52f81c-69b4-4a9f-9af3-2a5489bcf209",
   "metadata": {},
   "source": [
    "# Observation Angle Model Viewer\n",
    "\n",
    "## Look at All the Models!\n",
    "\n",
    "### There's so many and it's a hassle to recreate them every time when I just want to look at them."
   ]
  },
  {
   "cell_type": "markdown",
   "id": "854ab024-3ebf-4185-a22f-17b6f536f692",
   "metadata": {},
   "source": [
    "In my research, we create a lot of Observation Angle Models of Titan. These models are 3D matrices with incidence, emission, and azimuth angles as coordinates, and the recorded value of I/F. \n",
    "\n",
    "These models are created by taking pixels from either real VIMS data or SRTC++ simulations and putting them into 5 degree width bins, and then averaging out over all the pixels put into that pin. \n",
    "\n",
    "This notebook is organized like so: the first part just displays whatever you want. The second part displays specific results I think are worthy of talking about."
   ]
  },
  {
   "cell_type": "code",
   "execution_count": 4,
   "id": "d6e360e5-053b-47f1-85eb-5a0e169df8c1",
   "metadata": {},
   "outputs": [
    {
     "ename": "FileNotFoundError",
     "evalue": "[Errno 2] No such file or directory: 'HuygensArray.npy'",
     "output_type": "error",
     "traceback": [
      "\u001b[1;31m---------------------------------------------------------------------------\u001b[0m",
      "\u001b[1;31mFileNotFoundError\u001b[0m                         Traceback (most recent call last)",
      "Cell \u001b[1;32mIn[4], line 8\u001b[0m\n\u001b[0;32m      5\u001b[0m \u001b[38;5;28;01mimport\u001b[39;00m \u001b[38;5;21;01mmatplotlib\u001b[39;00m\u001b[38;5;21;01m.\u001b[39;00m\u001b[38;5;21;01mpyplot\u001b[39;00m \u001b[38;5;28;01mas\u001b[39;00m \u001b[38;5;21;01mplt\u001b[39;00m\n\u001b[0;32m      6\u001b[0m \u001b[38;5;28;01mimport\u001b[39;00m \u001b[38;5;21;01mmatplotlib\u001b[39;00m\u001b[38;5;21;01m.\u001b[39;00m\u001b[38;5;21;01manimation\u001b[39;00m \u001b[38;5;28;01mas\u001b[39;00m \u001b[38;5;21;01manimation\u001b[39;00m\n\u001b[1;32m----> 8\u001b[0m finalMatrixHuygens \u001b[38;5;241m=\u001b[39m \u001b[43mnp\u001b[49m\u001b[38;5;241;43m.\u001b[39;49m\u001b[43mload\u001b[49m\u001b[43m(\u001b[49m\u001b[38;5;124;43m\"\u001b[39;49m\u001b[38;5;124;43mHuygensArray.npy\u001b[39;49m\u001b[38;5;124;43m\"\u001b[39;49m\u001b[43m)\u001b[49m\n\u001b[0;32m      9\u001b[0m dataWin5 \u001b[38;5;241m=\u001b[39m np\u001b[38;5;241m.\u001b[39mload(\u001b[38;5;124m\"\u001b[39m\u001b[38;5;124mSpecularModelArray.npy\u001b[39m\u001b[38;5;124m\"\u001b[39m)\n\u001b[0;32m     10\u001b[0m dataWin5L \u001b[38;5;241m=\u001b[39m np\u001b[38;5;241m.\u001b[39mload(\u001b[38;5;124m\"\u001b[39m\u001b[38;5;124mLambertianModelArray.npy\u001b[39m\u001b[38;5;124m\"\u001b[39m)\n",
      "File \u001b[1;32m\\\\?\\C:\\Users\\deran\\AppData\\Roaming\\jupyterlab-desktop\\jlab_server\\Lib\\site-packages\\numpy\\lib\\_npyio_impl.py:459\u001b[0m, in \u001b[0;36mload\u001b[1;34m(file, mmap_mode, allow_pickle, fix_imports, encoding, max_header_size)\u001b[0m\n\u001b[0;32m    457\u001b[0m     own_fid \u001b[38;5;241m=\u001b[39m \u001b[38;5;28;01mFalse\u001b[39;00m\n\u001b[0;32m    458\u001b[0m \u001b[38;5;28;01melse\u001b[39;00m:\n\u001b[1;32m--> 459\u001b[0m     fid \u001b[38;5;241m=\u001b[39m stack\u001b[38;5;241m.\u001b[39menter_context(\u001b[38;5;28;43mopen\u001b[39;49m\u001b[43m(\u001b[49m\u001b[43mos\u001b[49m\u001b[38;5;241;43m.\u001b[39;49m\u001b[43mfspath\u001b[49m\u001b[43m(\u001b[49m\u001b[43mfile\u001b[49m\u001b[43m)\u001b[49m\u001b[43m,\u001b[49m\u001b[43m \u001b[49m\u001b[38;5;124;43m\"\u001b[39;49m\u001b[38;5;124;43mrb\u001b[39;49m\u001b[38;5;124;43m\"\u001b[39;49m\u001b[43m)\u001b[49m)\n\u001b[0;32m    460\u001b[0m     own_fid \u001b[38;5;241m=\u001b[39m \u001b[38;5;28;01mTrue\u001b[39;00m\n\u001b[0;32m    462\u001b[0m \u001b[38;5;66;03m# Code to distinguish from NumPy binary files and pickles.\u001b[39;00m\n",
      "\u001b[1;31mFileNotFoundError\u001b[0m: [Errno 2] No such file or directory: 'HuygensArray.npy'"
     ]
    }
   ],
   "source": [
    "#CELL 1: READ IN DATA.\n",
    "\n",
    "import csv\n",
    "import numpy as np\n",
    "import matplotlib.pyplot as plt\n",
    "import matplotlib.animation as animation\n",
    "\n",
    "finalMatrixHuygens = np.load(\"HuygensArray.npy\")\n",
    "dataWin5 = np.load(\"SpecularModelArray.npy\")\n",
    "dataWin5L = np.load(\"LambertianModelArray.npy\")\n",
    "finalMatrixLake = np.load(\"NorthLakeArray.npy\")\n",
    "finalMatrixLand = np.load(\"NorthLandArray.npy\")\n",
    "finalMatrixDunes = np.load(\"DunesArray.npy\")\n",
    "finalMatrixPlains = np.load(\"PlainsArray.npy\")\n",
    "finalMatrixHum = np.load(\"HummockyArray.npy\")\n",
    "finalMatrixXanadu = np.load(\"XanaduArray.npy\")"
   ]
  },
  {
   "cell_type": "code",
   "execution_count": 2,
   "id": "ee8c678b-cd96-42e9-aab8-cd19e0c41884",
   "metadata": {},
   "outputs": [],
   "source": [
    "#CELL 2: OMNI DISPLAY: DISPLAYS ALL DATA AT ONCE ADJUSTABLE WITH SLIDERS."
   ]
  },
  {
   "cell_type": "code",
   "execution_count": null,
   "id": "590df4ba-6cdd-462e-925a-271ec7f2debb",
   "metadata": {},
   "outputs": [],
   "source": [
    "#CELL 3: DISPLAYS A SINGLE GRAPH SET VIA VARIABLES IN THE CODE."
   ]
  }
 ],
 "metadata": {
  "kernelspec": {
   "display_name": "Python 3 (ipykernel)",
   "language": "python",
   "name": "python3"
  },
  "language_info": {
   "codemirror_mode": {
    "name": "ipython",
    "version": 3
   },
   "file_extension": ".py",
   "mimetype": "text/x-python",
   "name": "python",
   "nbconvert_exporter": "python",
   "pygments_lexer": "ipython3",
   "version": "3.12.5"
  }
 },
 "nbformat": 4,
 "nbformat_minor": 5
}
