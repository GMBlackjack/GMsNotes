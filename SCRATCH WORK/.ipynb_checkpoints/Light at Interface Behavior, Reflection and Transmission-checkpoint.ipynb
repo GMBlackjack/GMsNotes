{
 "cells": [
  {
   "cell_type": "markdown",
   "id": "5e8e57a1",
   "metadata": {},
   "source": [
    "# Light at Interface\n",
    "\n",
    "## Reflection and Transmission\n",
    "\n",
    "### I want to be sure I understand this and not just blindly follow through"
   ]
  },
  {
   "cell_type": "markdown",
   "id": "e7737fd5",
   "metadata": {},
   "source": [
    "So, in my work we have a need to know the reflection coefficient at arbitrary angles on a boundary with a known index of refraction. The issue is, behavior at a boundary at an angle is known to vary with polarization, and we have randomly polarized stuff. So we need to figure out what exactly is going on.\n",
    "\n",
    "One thing we can start with directly is Snell's Law, which gives us the *direction* of refraction, and can tell us when total internal reflection is occuring. \n",
    "\n",
    "$$ n_1 sin\\theta_1 = n_2 sin\\theta_2 $$\n",
    "\n",
    "Total internal reflection occurs when the second angle is 90 degrees or above, making its sin 1. \n",
    "\n",
    "$$ n_1 sin\\theta_1 = n_2 \\Rightarrow \\theta_1 = asin\\frac{n_2}{n_1}$$\n",
    "\n",
    "Now asin can only take values from -1 to 1, so if the fraction is too large it is undefined and we have no internal reflection. However, this would imply the air-water boundary never perfectly reflects, and yet we can see in images that it does. Hmmmmmm. This does imply that even at the extremes, we are not experiencing *total* reflection. There really is more to dig at here.\n",
    "\n",
    "And of course we also know the law of reflection, incidence equals refleciton angle. None of this has anything to do with the *magnitude* though. To determine the magnitude we have to split up any light to paralell and perpendicular components. The boundary conditions are known for this situation (grabbed from Schwartz, but they could be from anywhere). \n",
    "\n",
    "$$ \\epsilon_1 E^{(1)}_\\perp = \\epsilon_2 E^{(2)}_\\perp $$\n",
    "$$ \\frac{1}{\\mu_1} B^{(1)}_{||} = \\frac{1}{\\mu_2} B^{(2)}_{||}$$\n",
    "$$ E^{(1)}_{||} = E^{(2)}_{||} $$\n",
    "$$ B^{(1)}_\\perp = B^{(2)}_\\perp $$\n",
    "\n",
    "We also note that the index of refraction $n = \\sqrt{\\epsilon \\mu}$. We do not know the individual $\\epsilon \\mu$ values for our materials, so we will have to cancel them out later. \n",
    "\n",
    "An assumption we have for transparent materials is that $\\mu \\approx \\mu_0$, so a lot of equations reduce. Most importantly, $n = \\sqrt{\\epsilon \\mu_0}$, and $\\mu_0$ is a known quantity so this is now a one-variable situation. \n",
    "\n",
    "$$ \\frac{n_1^2}{\\mu_0} E^{(1)}_\\perp = \\frac{n_2^2}{\\mu_0} E^{(2)}_\\perp $$\n",
    "$$ E^{(1)}_{||} = E^{(2)}_{||} $$\n",
    "$$ B^{(1)} = B^{(2)} $$"
   ]
  },
  {
   "cell_type": "markdown",
   "id": "974c667c",
   "metadata": {},
   "source": [
    "I'm dumb, I just forgot what the thing we needed was *called*. What we want are the Fresnel Equations, or the Fresnel Coefficients. It is, of course, different for each polarization, but it can be calculated from the index of refraction::\n",
    "\n",
    "$$ R_s = \\left| \\frac{n_1cos\\theta_i - n_2 cos\\theta_t}{n_1cos\\theta_i + n_2cos\\theta_t} \\right|^2 $$\n",
    "$$ R_p = \\left| \\frac{n_1cos\\theta_t - n_2 cos\\theta_i}{n_1cos\\theta_t + n_2cos\\theta_i} \\right|^2 $$\n",
    "\n",
    "For general reflectence you'd add the two and then divide by two. Transmission would be 1-R. \n",
    "\n",
    "In our specfic case, the index of refraction for air might as well be 1.\n",
    "\n",
    "$$ R_s = \\left| \\frac{cos\\theta_i - n_2 cos\\theta_t}{cos\\theta_i + n_2cos\\theta_t} \\right|^2 $$\n",
    "$$ R_p = \\left| \\frac{cos\\theta_t - n_2 cos\\theta_i}{cos\\theta_t + n_2cos\\theta_i} \\right|^2 $$\n",
    "\n",
    "We can calculate the tarnsmission angle from snell's law, $\\theta_t = asin \\left( \\frac{sin\\theta_i}{n_2} \\right)$"
   ]
  },
  {
   "cell_type": "markdown",
   "id": "8863d195",
   "metadata": {},
   "source": [
    "\n",
    "Schwartz, Matthew. \"Refraction and Reflection.\" Lecture note.[Online]. Available: https://scholar. harvard. edu/files/schwartz/files/lecture15-refraction. pdf.[Accessed: 10-Oct-2021]."
   ]
  },
  {
   "cell_type": "code",
   "execution_count": null,
   "id": "12925517",
   "metadata": {},
   "outputs": [],
   "source": []
  }
 ],
 "metadata": {
  "kernelspec": {
   "display_name": "Python 3 (ipykernel)",
   "language": "python",
   "name": "python3"
  },
  "language_info": {
   "codemirror_mode": {
    "name": "ipython",
    "version": 3
   },
   "file_extension": ".py",
   "mimetype": "text/x-python",
   "name": "python",
   "nbconvert_exporter": "python",
   "pygments_lexer": "ipython3",
   "version": "3.11.4"
  }
 },
 "nbformat": 4,
 "nbformat_minor": 5
}
