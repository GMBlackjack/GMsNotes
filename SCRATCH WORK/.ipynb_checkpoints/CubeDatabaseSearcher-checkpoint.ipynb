{
 "cells": [
  {
   "cell_type": "markdown",
   "id": "d13d6e46-6952-4e6e-a0ad-fceb76dd2380",
   "metadata": {},
   "source": [
    "# Cube CSV Database Searcher\n",
    "\n",
    "## The entire database exists. We just need to sift through it. Somehow.\n",
    "\n",
    "So yeah this notebook is simple. There is a CubeCSVDatabase I have with .csv files for *all* the manageable cubes. \n",
    "\n",
    "We already know how to find a cube if we already *have* the cube number and flyby number, so the thing we need to do is create a file that *holds* all that information. Just a LIST of cubes and flybys. "
   ]
  },
  {
   "cell_type": "code",
   "execution_count": 15,
   "id": "42ab1733-7d2d-4978-9ef3-3c5c309b5f07",
   "metadata": {},
   "outputs": [],
   "source": [
    "#Imports:\n",
    "from os import listdir\n",
    "from os.path import isfile, join\n",
    "\n",
    "#The filepath for the database:\n",
    "datapath = r\"C:\\Users\\deran\\Desktop\\CubeCSVDatabase\\T\" #followed by the number or letter.\n",
    "path = r\"C:\\Users\\deran\\Desktop\\CubeCSVDatabase\\T114\\CM_1826052615_1.cub.csv\" #as an example of a full thing.\n",
    "\n",
    "with open(\"cubeList.csv\", 'a') as dataEntry: #a for append.\n",
    "    flypath = datapath+\"a\"\n",
    "    allFiles = [f for f in listdir(flypath) if isfile(join(flypath, f))]\n",
    "    for item in allFiles:\n",
    "        if (item[-7::1] == \"cub.csv\"):\n",
    "            if (item[-11::1] != \"geo.cub.csv\"):\n",
    "                dataEntry.write(str(item[:15:])+\",\"+str(flypath[-2::])+\",\"+ \"\\n\")\n",
    "    flypath = datapath+\"b\"\n",
    "    allFiles = [f for f in listdir(flypath) if isfile(join(flypath, f))]\n",
    "    for item in allFiles:\n",
    "        if (item[-7::1] == \"cub.csv\"):\n",
    "            if (item[-11::1] != \"geo.cub.csv\"):\n",
    "                dataEntry.write(str(item[:15:])+\",\"+str(flypath[-2::])+\",\"+ \"\\n\")\n",
    "    flypath = datapath+\"c\"\n",
    "    allFiles = [f for f in listdir(flypath) if isfile(join(flypath, f))]\n",
    "    for item in allFiles:\n",
    "        if (item[-7::1] == \"cub.csv\"):\n",
    "            if (item[-11::1] != \"geo.cub.csv\"):\n",
    "                dataEntry.write(str(item[:15:])+\",\"+str(flypath[-2::])+\",\"+ \"\\n\")\n",
    "    flypath = datapath+\"0\"\n",
    "    allFiles = [f for f in listdir(flypath) if isfile(join(flypath, f))]\n",
    "    for item in allFiles:\n",
    "        if (item[-7::1] == \"cub.csv\"):\n",
    "            if (item[-11::1] != \"geo.cub.csv\"):\n",
    "                dataEntry.write(str(item[:15:])+\",\"+str(flypath[-2::])+\",\"+ \"\\n\")\n",
    "#Now that we're past the weird flybys, we can use numbers.\n",
    "    num = 3\n",
    "    while (num <= 126):\n",
    "        flypath = datapath+str(num)\n",
    "        allFiles = [f for f in listdir(flypath) if isfile(join(flypath, f))]\n",
    "        for item in allFiles:\n",
    "            if (item[-7::1] == \"cub.csv\"):\n",
    "                if (item[-11::1] != \"geo.cub.csv\"):\n",
    "                    if (num < 10):\n",
    "                        dataEntry.write(str(item[:15:])+\",\"+str(flypath[-2::])+\",\"+ \"\\n\")\n",
    "                    elif(num < 100):\n",
    "                        dataEntry.write(str(item[:15:])+\",\"+str(flypath[-3::])+\",\"+ \"\\n\")\n",
    "                    else:\n",
    "                        dataEntry.write(str(item[:15:])+\",\"+str(flypath[-4::])+\",\"+ \"\\n\")\n",
    "        num=num+1\n",
    "#Now that we're past the weird flybys, we can use numbers.\n",
    "    \n",
    "\n"
   ]
  },
  {
   "cell_type": "code",
   "execution_count": null,
   "id": "e4c852ea-40bf-4ad6-8686-2d75b98047ba",
   "metadata": {},
   "outputs": [],
   "source": []
  }
 ],
 "metadata": {
  "kernelspec": {
   "display_name": "Python 3 (ipykernel)",
   "language": "python",
   "name": "python3"
  },
  "language_info": {
   "codemirror_mode": {
    "name": "ipython",
    "version": 3
   },
   "file_extension": ".py",
   "mimetype": "text/x-python",
   "name": "python",
   "nbconvert_exporter": "python",
   "pygments_lexer": "ipython3",
   "version": "3.11.5"
  }
 },
 "nbformat": 4,
 "nbformat_minor": 5
}
