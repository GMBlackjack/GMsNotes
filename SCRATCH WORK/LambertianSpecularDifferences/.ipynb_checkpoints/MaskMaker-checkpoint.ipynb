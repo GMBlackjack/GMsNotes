{
 "cells": [
  {
   "cell_type": "markdown",
   "id": "69a1323b-bf3e-453e-ac6f-ed5c284e4dc2",
   "metadata": {},
   "source": [
    "# Mask Maker\n",
    "\n",
    "## An attempt to try to make a mask that'll tell us where lakes and land are.\n",
    "\n",
    "### This'll be... fun."
   ]
  },
  {
   "cell_type": "markdown",
   "id": "362b1f48-cbe3-47f4-91f1-27926d8dff98",
   "metadata": {},
   "source": [
    "So the goal here is to use the masks that have been made "
   ]
  }
 ],
 "metadata": {
  "kernelspec": {
   "display_name": "Python 3 (ipykernel)",
   "language": "python",
   "name": "python3"
  },
  "language_info": {
   "codemirror_mode": {
    "name": "ipython",
    "version": 3
   },
   "file_extension": ".py",
   "mimetype": "text/x-python",
   "name": "python",
   "nbconvert_exporter": "python",
   "pygments_lexer": "ipython3",
   "version": "3.11.5"
  }
 },
 "nbformat": 4,
 "nbformat_minor": 5
}
