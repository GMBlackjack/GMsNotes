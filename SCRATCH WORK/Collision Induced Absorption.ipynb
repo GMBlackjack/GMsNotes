{
 "cells": [
  {
   "cell_type": "markdown",
   "id": "624f2066",
   "metadata": {},
   "source": [
    "# Collision Induced Absorption\n",
    "\n",
    "## What is it and how do we model it?"
   ]
  },
  {
   "cell_type": "markdown",
   "id": "486ecf1a",
   "metadata": {},
   "source": [
    "In the problems of Radiative Transfer we need to figure out how exactly to model all the absorption. In Titan's atmosphere, we have several sources of this:\n",
    "\n",
    "Gas absorption\n",
    "\n",
    "Aerosol/Haze absorption/scattering\n",
    "\n",
    "Rayleigh scattering\n",
    "\n",
    "Collision induced asborption\n",
    "\n",
    "The last one is the one we are concerned with here, but we should at least address the others:\n",
    "\n",
    "### Gas Absorption\n",
    "\n",
    "The gaseous particles in the atmosphere all have their own absorption spectra. In Titan, Methane is the primary abosrber, but there's also carbon monoxide, hydrogen cyanide, and otehr things, each of which absorb specific wavelengths and add together to form a total absorption spectra. This absorption primarily has to deal with quantized energy levels, and certain excited states being allowed/dissalowed for specific photon energies.\n",
    "\n",
    "Strictly speaking Rayleigh and CIA are still absopriton \"from gas,\" but we don't model them the same way due to their differing mechanisms.\n",
    "\n",
    "### Aerosol/Haze Absorption/Scattering\n",
    "\n",
    "Many larger particles are often suspended in the atmosphere. On Earth this would be water a lot of the time, but on Titan it's primarily large hydrocarbons of relatively unconstrained composition. These larger suspended particles both scatter and absorb a wide variety of wavelengths. We don't have the capacity to build up the exact nature of the aerosols from theory, but we can use our observations to determine what their contribution is, and thus adapt it into the fold. We model the haze with relative densities, single scattering albedos, and the like: meaning both scattering effects and absorption is modeled. (Though the nature of the scattering direction has to be specified.) \n",
    "\n",
    "### Rayleigh Scattering\n",
    "\n",
    "Nitrogen is the dominant gas in the atmosphere of Earth and Titan, and in both it preferentially scatters higher frequency light in a specific and well-konwn way--Rayleigh Scattering! This makes the Earth's sky blue, and Titan's orange. Explanations for exactly why can be found later. It happens for any particles of a size much smaller than the radiation's wavelength. Visible light is measured in hundreds of nanometers, atoms themselves are measured in tenths of nanometers, so yeah that checks. This universality of the effect is what differentiates it from Gas Absorption.\n",
    "\n",
    "### Collision Induced Absorption\n",
    "\n",
    "Which leads us to CIA, Collision Induced Absorption. Which I don't know enough about! So let's figure it out!"
   ]
  },
  {
   "cell_type": "markdown",
   "id": "a54a777c",
   "metadata": {},
   "source": [
    "# References \n",
    "\n",
    "[1] **Hartmann et al. 2017**: Collision-induced absorption by N2 near 2.16 um: Calculations, model, and consequences for atmospheric remote sensing. \n",
    "\n",
    "https://agupubs.onlinelibrary.wiley.com/doi/10.1002/2016JD025677\n",
    "\n",
    "[2] **Es-Sayeh et al, 2023**: Updated Radiative Transfer Model for Titan in the Near-infrared Wavelength Range: Validation Against Huygens Atmospheric and Surface Measurements and Application to the Cassini/VIMS Observations of the Dragonfly Landing Area. \n",
    "\n",
    "https://insu.hal.science/insu-04036493"
   ]
  },
  {
   "cell_type": "code",
   "execution_count": null,
   "id": "532dfaf0",
   "metadata": {},
   "outputs": [],
   "source": []
  }
 ],
 "metadata": {
  "kernelspec": {
   "display_name": "Python 3 (ipykernel)",
   "language": "python",
   "name": "python3"
  },
  "language_info": {
   "codemirror_mode": {
    "name": "ipython",
    "version": 3
   },
   "file_extension": ".py",
   "mimetype": "text/x-python",
   "name": "python",
   "nbconvert_exporter": "python",
   "pygments_lexer": "ipython3",
   "version": "3.11.4"
  }
 },
 "nbformat": 4,
 "nbformat_minor": 5
}
