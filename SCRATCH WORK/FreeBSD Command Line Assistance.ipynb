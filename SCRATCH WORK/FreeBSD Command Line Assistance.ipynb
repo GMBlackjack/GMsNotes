{
 "cells": [
  {
   "cell_type": "markdown",
   "id": "40f49e36",
   "metadata": {},
   "source": [
    "# FreeBSD Command Line Assistance \n",
    "\n",
    "## You need help with getting around in FreeBSD?\n",
    "\n",
    "### \"You\" most likely being \"future me\" but whatever\n",
    "\n",
    "Okay, so, FreeBSD is a pain at times, yes? Yes. Stuck with all this terminal nonsense and just blerghebleh, and a lot of unique commands for SRTC++ that can't be looked up anywhere. So! Here I compile everything I feel I might need to know about messing with things in FreeBSD!"
   ]
  },
  {
   "cell_type": "markdown",
   "id": "7e91d9ca",
   "metadata": {},
   "source": [
    "# Access and Navigation"
   ]
  },
  {
   "cell_type": "markdown",
   "id": "7a92dac6",
   "metadata": {},
   "source": [
    "If you're in front of a computer with FreeBSD, congradulations, you don't have to worry about access.\n",
    "\n",
    "But if you're not, well, it's time to use ssh. (Secured SHell). (You'll also have to use it if you want to access a different computer.) \n",
    "\n",
    "When accessing from outside the network:\n",
    "\n",
    "`ssh -Y GMSeskii@R2D2.barnesos.net`\n",
    "\n",
    "Though more generally this would be\n",
    "\n",
    "`ssh -Y NAME@computer`\n",
    "\n",
    "In our case specific computers are always `CPU.barnesos.net`.\n",
    "\n",
    "The access will ask for a password, give it, and viola you're in. \n",
    "\n",
    "When inside the network `ssh computer` should be sufficient, you can even leave off `barnesos.net`. \n",
    "\n",
    "And that should take care of access."
   ]
  },
  {
   "cell_type": "markdown",
   "id": "384eb35f",
   "metadata": {},
   "source": [
    "As for Navigation, `cd` (Change Directory) is your friend. `cd folder` takes you into a folder and `cd ..` takes you up a directory level. If you want to see what is in the current directory, use `ls` to \"LiSt\" the contents. \n",
    "\n",
    "If you need to access a file with a space make sure to use `\\` before the space to indicate that it should actually be read as a space. The other slash `/` is for nested directory stuff.\n",
    "\n",
    "Using a `~` at the start of a file name indicates the home directory, taking you right up to the top. Here we use it to access other users' programs."
   ]
  },
  {
   "cell_type": "markdown",
   "id": "152b8273",
   "metadata": {},
   "source": [
    "# Gmake Properly and other Program Stuff"
   ]
  },
  {
   "cell_type": "markdown",
   "id": "eb3409bb",
   "metadata": {},
   "source": [
    "So, as we are not using an IDE (Integrated Development Environemnt) for most of our stuff, whenever we change something in a program we have to manually recompile it, or else if we run it again it'll be as if we have not made any changes. The primary way to do this is `gmake`, called as `gmake program`. If gmake is already set up for the program we are using, this is all we need to do as it will compile the program's changes and manage any dependencies. NOTE: you'll have to run this in the right folder (otherwise gmake may not be able to find what it's working with.) \n",
    "\n",
    "If it is NOT set up already, though, a `makefile` will need to be created which basically gives instructions on how to make it. Now, how does one make a makefule? Um. Eh. Er. Good quesiton we'll get back to that hopefully."
   ]
  },
  {
   "cell_type": "markdown",
   "id": "15896b5f",
   "metadata": {},
   "source": [
    "Now once a program is properly compiled, it'll need to be run. You could just type in the program's name and run it (folder dependencies may or may not matter, depending). However, in our cases we run a bunch of simulations so we'll want to be able to manage the piriority. We do this with the `nice` command. `nice +10 program` makes a program run with a very low priority, and `nice -10 program` would make the program have an extremely high priority. That said, uh, you probably don't have permission to do -10. You probably only need to use 'default' and '+10' in this situation, so you can still run programs while simulating in the background."
   ]
  },
  {
   "cell_type": "markdown",
   "id": "a213a64b",
   "metadata": {},
   "source": [
    "# SRTC++/Jcube Specific Stuff"
   ]
  },
  {
   "cell_type": "markdown",
   "id": "5e600b46",
   "metadata": {},
   "source": [
    "This is not a full guide, this is just a note of various commands for SRTC++/Jcube that are used regularly.\n",
    "\n",
    "The command that will be used most often is `Jcubeviewer` which simply takes a Jcube and displays it for examination. Very useful. Make sure to either run it in the right folder or give the *full* address of the Jcubeit needs to open. However, just looking at them individually may not always be what we want: we often want actual images. The program `titancolor2` is what we want for that."
   ]
  },
  {
   "cell_type": "markdown",
   "id": "5682eb65",
   "metadata": {},
   "source": [
    "`titancolor2` takes in a Jcube and spits out an image. Often you can run it direct from the computer without a prefix, but if the computer can't find the program, `~jbarnes/bin/titancolor2` should do the trick.\n",
    "\n",
    "The first way to use it, and the simplest, is to take a Jcube that holds real data from a flyby of Titan. Just feed `titancolor2` it and it will create an image with RGB values taken from three specific wavelengths: 5.00, 2.01, and 1.27 microns respectively. (Smaller wavelengths are blue.) \n",
    "\n",
    "This is if you have complete, real data. But we often run simluations here that don't have real data and, perhaps more importantly, don't have every wavelength lined out. We usually run one wavelength at a time. What you do in this case is rely on another program: `JblocksZ`. Give `JblocksZ` three cubes with single wavelenths: it will treat the first as 1.27, the second as 2.01, and the third as 5.00. It will spit out a cube (named \"blocked\" by default) that `titancolor2` can read and give a color image. \n",
    "\n",
    "`titancolor2` can also just directly produce a black and white image for single cubes, even single wavelength ones, but this requires a new setting be run: `titancolor2 --style haze`, and then feed this the cube. This will produce a black and white image akin to `Jcubeviewer`, though things will be \"fuzzy\" as the sharp pixel edges are slightly smoothed in the process.\n",
    "\n",
    "`titancolor2` also has another modifier that can be added, `--multiplier`. You attach this at the end after specifying the file to act on, and then give it a number. 1 does nothing, larger numbers make the result dimmer, smaller numbers make it brighter. Why is it numbered like this? I dunno.\n",
    "\n",
    "If you feed `titancolor2` multiple files (such as by using the `*` to select a large number of similar ones) it will spit out a result for each one. "
   ]
  },
  {
   "cell_type": "markdown",
   "id": "6c132321",
   "metadata": {},
   "source": [
    "# Other"
   ]
  },
  {
   "cell_type": "markdown",
   "id": "4aa51283",
   "metadata": {},
   "source": [
    "Sometimes you want to create animations with all these images that are created. We use `imagemagick` for this, specifically the `convert` command. The basic form we use was taken from https://www.tjhsst.edu/~dhyatt/supercomp/n401a.html, though it's generic enough I probably don't *need* to cite this. \n",
    "\n",
    "`convert -delay 20 -loop 0 [Frames] animationTitle.gif`\n",
    "\n",
    "The delay has the time delay between frames, loop \"0\" just makes the gif loop, the frames are all in sequence, and then the last part is the title result. Dunno what happens when all the frames aren't the same size. Probably something bad. "
   ]
  }
 ],
 "metadata": {
  "kernelspec": {
   "display_name": "Python 3 (ipykernel)",
   "language": "python",
   "name": "python3"
  },
  "language_info": {
   "codemirror_mode": {
    "name": "ipython",
    "version": 3
   },
   "file_extension": ".py",
   "mimetype": "text/x-python",
   "name": "python",
   "nbconvert_exporter": "python",
   "pygments_lexer": "ipython3",
   "version": "3.11.4"
  }
 },
 "nbformat": 4,
 "nbformat_minor": 5
}
