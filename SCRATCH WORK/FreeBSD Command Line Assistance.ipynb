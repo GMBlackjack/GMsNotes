{
 "cells": [
  {
   "cell_type": "markdown",
   "id": "40f49e36",
   "metadata": {},
   "source": [
    "# FreeBSD Command Line Assistance \n",
    "\n",
    "## You need help with getting around in FreeBSD?\n",
    "\n",
    "### \"You\" most likely being \"future me\" but whatever\n",
    "\n",
    "Okay, so, FreeBSD is a pain at times, yes? Yes. Stuck with all this terminal nonsense and just blerghebleh, and a lot of unique commands for SRTC++ that can't be looked up anywhere. So! Here I compile everything I feel I might need to know about messing with things in FreeBSD!"
   ]
  },
  {
   "cell_type": "markdown",
   "id": "7e91d9ca",
   "metadata": {},
   "source": [
    "# Access and Navigation"
   ]
  },
  {
   "cell_type": "markdown",
   "id": "7a92dac6",
   "metadata": {},
   "source": [
    "If you're in front of a computer with FreeBSD, congradulations, you don't have to worry about access.\n",
    "\n",
    "But if you're not, well, it's time to use ssh. (Secured SHell). (You'll also hae to use it if you want to access a different computer.) \n",
    "\n",
    "When accessing from outside the network:\n",
    "\n",
    "`ssh -Y GMSeskii@R2D2.barnesos.net`\n",
    "\n",
    "Though more generally this would be\n",
    "\n",
    "`ssh -Y NAME@computer`\n",
    "\n",
    "In our case specific computers are always `CPU.barnesos.net`.\n",
    "\n",
    "The access will ask for a password, give it, and viola you're in. \n",
    "\n",
    "When inside the network `ssh computer` should be sufficient, you can even leave off `barnesos.net`. \n",
    "\n",
    "And that should take care of access."
   ]
  },
  {
   "cell_type": "markdown",
   "id": "384eb35f",
   "metadata": {},
   "source": [
    "As for Navigation, `cd` (Change Directory) is your friend. `cd folder` takes you into a folder and `cd ..` takes you up a directory level. If you want to see what is in the current directory, use `ls` to \"LiSt\" the contents. \n",
    "\n",
    "If you need to access a file with a space make sure to use `\\` before the space to indicate that it should actually be read as a space. The other slash `/` is for nested directory stuff.\n",
    "\n",
    "Using a `~` at the start of a file name indicates the home directory, taking you right up to the top. Here we use it to access other users' programs."
   ]
  },
  {
   "cell_type": "markdown",
   "id": "152b8273",
   "metadata": {},
   "source": [
    "# Gmake Properly and other Program Stuff"
   ]
  },
  {
   "cell_type": "markdown",
   "id": "30e63cc9",
   "metadata": {},
   "source": [
    "`nice +10`\n",
    "\n",
    "`gmake`"
   ]
  },
  {
   "cell_type": "markdown",
   "id": "a213a64b",
   "metadata": {},
   "source": [
    "# SRTC++/Jcube Specific Stuff"
   ]
  },
  {
   "cell_type": "markdown",
   "id": "4654683a",
   "metadata": {},
   "source": [
    "`Jcubeviewer`\n",
    "\n",
    "`titancolor2`\n",
    "\n",
    "`--multiplier 2`\n",
    "\n",
    "`JblocksZ`\n",
    "\n"
   ]
  }
 ],
 "metadata": {
  "kernelspec": {
   "display_name": "Python 3 (ipykernel)",
   "language": "python",
   "name": "python3"
  },
  "language_info": {
   "codemirror_mode": {
    "name": "ipython",
    "version": 3
   },
   "file_extension": ".py",
   "mimetype": "text/x-python",
   "name": "python",
   "nbconvert_exporter": "python",
   "pygments_lexer": "ipython3",
   "version": "3.11.4"
  }
 },
 "nbformat": 4,
 "nbformat_minor": 5
}
