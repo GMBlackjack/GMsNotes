{
 "cells": [
  {
   "cell_type": "markdown",
   "id": "f18912e8",
   "metadata": {},
   "source": [
    "# Validating a Titan Model with Specular Reflection Against Known Methane Lakes\n",
    "\n",
    "## Authors: \n",
    "\n",
    "### Gabriel M Steward, Jason W Barnes (William Miller most definitely. Shannon? Who worked on this part of SRTC++? Note to self: make sure to get all who deserve credit on here, not sure where the line of \"put on author list\" is drawn) "
   ]
  },
  {
   "cell_type": "markdown",
   "id": "00383559",
   "metadata": {},
   "source": [
    "## Abstract"
   ]
  },
  {
   "cell_type": "markdown",
   "id": "cf474515",
   "metadata": {},
   "source": [
    "[We modeled Titan as a Global Methane Ocean using SRTC++ and compared the results with known Titan lakes to validate it. We found... (To Be Determined, but one thing we can identify is the BLUEness)]\n",
    "\n",
    "Caution: we don't have absorption functional yet. However we can still validate against known lakes; but even if it does work we should justify why absorption is fine. "
   ]
  },
  {
   "cell_type": "markdown",
   "id": "41e0f93d",
   "metadata": {},
   "source": [
    "## Introduction\n",
    "\n",
    "[Explain the need for a model of specular reflecitons on Titan, including the unknown lake candidates. Another basic reason is just that there is no model that accounts for the reflections yet. Be sure to explain the basics of Titan briefly, then also explain briefly what we are specifically simulating. Justify use of methane ocean and SRTC++.]"
   ]
  },
  {
   "cell_type": "markdown",
   "id": "6fdfbcef",
   "metadata": {},
   "source": [
    "## Methods"
   ]
  },
  {
   "cell_type": "markdown",
   "id": "c069eadf",
   "metadata": {},
   "source": [
    "[Describe the model being used and how the program works at a basic level, refer to other SRTC++ paper for more details (is the specular refleciton paper going to be out or not? If not, that will need to be described here.) Explain the free parameters and what we can adjust (wavelength and index of refraction mostly). Perhaps include a visual diagram of the \"experimental setup\" of Detectors around the Titan model. Discuss the atmosphere model and where it came from, make it clear that we do not factor in absorption at this time, but there isn't expected to be any in the methane windows anyway. May need to bring up the Lambertian simulation?]"
   ]
  },
  {
   "cell_type": "markdown",
   "id": "7b59c7e2",
   "metadata": {},
   "source": [
    "## Results "
   ]
  },
  {
   "cell_type": "markdown",
   "id": "cf4638a7",
   "metadata": {},
   "source": [
    "[First of all just display the results of the primary simulation for methane. Possibly discuss existence of an ethane simulation? May or may not be necessary to paper. Regardless, show off the simluation's results; be sure to include discussion of all wavelengths, not just the three used in \"Jason Color.\" Point out some curious notes, including the \"eclipse view\", but also point out that the atmospheric knowledge that could be gained here is not the point of the paper. Draw connections between the results and hypotheses: one of the big ones is the limb brightening due to the index of refraction. Make it clear that the primary reflection is not shown. Explain the \"blueness\" of the images. End with the fact that while the simulations seem reasonable, they aren't going to be particularly useful unless we can validate them: cue next section.]"
   ]
  },
  {
   "cell_type": "markdown",
   "id": "693c2a89",
   "metadata": {},
   "source": [
    "## Validation"
   ]
  },
  {
   "cell_type": "markdown",
   "id": "8d309133",
   "metadata": {},
   "source": [
    "[Validation procedure: compare with known lakes. Explain selection process for which images/flybys we used for this (not that I know what this procedure is yet, as we haven't even started this part). Show a visual comparison first, then a quantitative comparison. (Structure: once per flyby used? Once per feature? Or do all visual comparisons and then all quantitative ones?) Compare the quantitative differences and assign some kind of confidence value as to how close our model is to reality. We HOPE that this validation is confirmed. If it is not we presumably need to go back to the drawing board and figure out what went wrong rather than publishing this paper. (if it goes wrong it's possibly a lack of absorption or some other feature.)]"
   ]
  },
  {
   "cell_type": "markdown",
   "id": "1343ab9b",
   "metadata": {},
   "source": [
    "## Discussion"
   ]
  },
  {
   "cell_type": "markdown",
   "id": "32ca8bba",
   "metadata": {},
   "source": [
    "[So we don't know what to put here really since we haven't done the full experiment. Most of the observations I currently know of are best put in Results as they are observations about the results directly rather than any real new knowledge. If validation flies, we do have one piece of knowledge: to find lakes look for fully illuminated disks and find the BLUE in Jason Color. Other possible dicsussion points: deviations from reality, noise at five microns, error quantifications if we can get them, other potential signs of lakes. Possibly bring up the Lambertian simulation here? That would require explaining why it is also blue, which should be done but may distract from the purpose of this paper.]"
   ]
  },
  {
   "cell_type": "markdown",
   "id": "9c3d6aa0",
   "metadata": {},
   "source": [
    "## Conclusion"
   ]
  },
  {
   "cell_type": "markdown",
   "id": "70c022d7",
   "metadata": {},
   "source": [
    "[Conclude based on how confident we are in the simluation, and summarize points of new science and potential indications of how to identify future lakes. Keep it simple and short, but make sure to include relevant details, such as precise values that can be used to detect lakes.]"
   ]
  },
  {
   "cell_type": "markdown",
   "id": "442de8c5",
   "metadata": {},
   "source": [
    "## Acknowledgements \n",
    "\n",
    "[Not sure who needs to be put here who won't be put on the author list. Though there is going to be funding recongition here.]"
   ]
  },
  {
   "cell_type": "markdown",
   "id": "d71c2b0c",
   "metadata": {},
   "source": [
    "## References\n",
    "\n",
    "[Not collecting these yet (well not here I have the other notebooks for holding potentially relevant papers). Obviously will need the SRTC++ paper, the atmosphere model paper, some lake papers, and if we mess with the lambertian model we should include that paper, whatever it is.]"
   ]
  },
  {
   "cell_type": "code",
   "execution_count": null,
   "id": "f0b6f9f1",
   "metadata": {},
   "outputs": [],
   "source": []
  }
 ],
 "metadata": {
  "kernelspec": {
   "display_name": "Python 3 (ipykernel)",
   "language": "python",
   "name": "python3"
  },
  "language_info": {
   "codemirror_mode": {
    "name": "ipython",
    "version": 3
   },
   "file_extension": ".py",
   "mimetype": "text/x-python",
   "name": "python",
   "nbconvert_exporter": "python",
   "pygments_lexer": "ipython3",
   "version": "3.11.4"
  }
 },
 "nbformat": 4,
 "nbformat_minor": 5
}
