{
 "cells": [
  {
   "cell_type": "markdown",
   "id": "6b90f58e-91bc-4608-9fe8-71de86138034",
   "metadata": {},
   "source": [
    "# Model Viewer\n",
    "\n",
    "## Analysis of the Various Models\n",
    "\n",
    "### Singular or Multiple, All Are Available!\n",
    "\n",
    "This notebook takes in .npy Observation Viewing Geometry models, either constructed from simulation data or real data. Everything is in the form of incidence, emission, azimuth angles, and the data stored is in I/F."
   ]
  },
  {
   "cell_type": "code",
   "execution_count": null,
   "id": "cc379c43-5b37-497d-9121-d082c7d983de",
   "metadata": {},
   "outputs": [],
   "source": []
  }
 ],
 "metadata": {
  "kernelspec": {
   "display_name": "Python 3 (ipykernel)",
   "language": "python",
   "name": "python3"
  },
  "language_info": {
   "codemirror_mode": {
    "name": "ipython",
    "version": 3
   },
   "file_extension": ".py",
   "mimetype": "text/x-python",
   "name": "python",
   "nbconvert_exporter": "python",
   "pygments_lexer": "ipython3",
   "version": "3.12.5"
  }
 },
 "nbformat": 4,
 "nbformat_minor": 5
}
