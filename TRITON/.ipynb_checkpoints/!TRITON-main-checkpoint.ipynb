{
 "cells": [
  {
   "cell_type": "markdown",
   "id": "ddbfab5b",
   "metadata": {},
   "source": [
    "# TRITON\n",
    "\n",
    "## Everything You Want to Know!\n",
    "\n",
    "### Just kidding we don't know anywhwere close to enough about this rock. "
   ]
  },
  {
   "cell_type": "markdown",
   "id": "0cc334dc",
   "metadata": {},
   "source": [
    "Okay so I was going to just do this but then I realized my main plan involves Planetary Sceinces which I don't have access to right now so we'll get there eventually. "
   ]
  },
  {
   "cell_type": "code",
   "execution_count": null,
   "id": "f77ad3da",
   "metadata": {},
   "outputs": [],
   "source": []
  }
 ],
 "metadata": {
  "kernelspec": {
   "display_name": "Python 3 (ipykernel)",
   "language": "python",
   "name": "python3"
  },
  "language_info": {
   "codemirror_mode": {
    "name": "ipython",
    "version": 3
   },
   "file_extension": ".py",
   "mimetype": "text/x-python",
   "name": "python",
   "nbconvert_exporter": "python",
   "pygments_lexer": "ipython3",
   "version": "3.11.4"
  }
 },
 "nbformat": 4,
 "nbformat_minor": 5
}
