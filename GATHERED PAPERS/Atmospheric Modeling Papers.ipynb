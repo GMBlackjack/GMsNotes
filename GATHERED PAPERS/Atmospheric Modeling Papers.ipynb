{
 "cells": [
  {
   "cell_type": "markdown",
   "id": "4491acb9",
   "metadata": {},
   "source": [
    "# Atmospheric Modeling\n",
    "\n",
    "## Planets have atmospheres\n",
    "\n",
    "### Titan does too, it's really in the way, hence the need for modeling."
   ]
  },
  {
   "cell_type": "markdown",
   "id": "01cdc65d",
   "metadata": {},
   "source": [
    "## Correlated-K Method Papers\n",
    "\n",
    "**Lacis et al, 1979**: Correlated K-Distribution Method for Radiative Transfer in Climate Models: Application to Effect of Cirrus Clouds on Climate \n",
    "\n",
    "https://books.google.com/books?hl=en&lr=&id=JgoZAQAAIAAJ&oi=fnd&pg=PA309&dq=Lacis+et+al.,+1979&ots=jOG9UPRTUP&sig=7JqMU5coWBC5gT3O4NGim-_z-Uo#v=onepage&q=Lacis%20et%20al.%2C%201979&f=false\n",
    "\n",
    "The main reason to look at this paper is not for the Cirrus Clouds, but rather for the basic description of the correlated-k distribution method. It is however not as good as other sources at describing it; but it DOES have good simplified toy graphs that are easier to examine than the overly-detailed realistic ones. \n",
    "\n",
    "**Lacis and Oinas, 1991**: A Descrpition of the Correlated-k Distribution Method for Modeling Nongray Gaseous Absorption, Thermal Emission, and Multiple Scattering in Vertically Inhomogenous Atmospheres\n",
    "\n",
    "https://agupubs.onlinelibrary.wiley.com/doi/epdf/10.1029/90JD01945\n",
    "\n",
    "This paper gives some in-depth examples of the Correlated-k Distribution Method and is a good source of graphs, and it also discusses multiple atmospheric constintuents. It also talks about applications of the method and some results from it. A good place for exmaple graphs.\n",
    "\n",
    "**Fu and Liou, 1991**: On the Correlated k-Distribution Method for Radiative Transfer in Nonhomogenous Atmospheres \n",
    "\n",
    "https://journals.ametsoc.org/view/journals/atsc/49/22/1520-0469_1992_049_2139_otcdmf_2_0_co_2.xml?tab_body=pdf\n",
    "\n",
    "This is probably the best Correlated-k Distribution Method paper. While it doesn't have the simple toy models or the large number of graphical examples, what it does do is explain the math and reasoning behind the method excellently, as well as having a graphical description of what \"correlation\" even MEANS. More of the mathematical structure underlying the method is shown here.\n",
    "\n",
    "**Molliere et al, 2015**: Model Atmospheres of Irradiated Exoplanets: the Influence of Stellar Parameters, Metallicity, and the C/O Ratio \n",
    "\n",
    "https://iopscience.iop.org/article/10.1088/0004-637X/813/1/47/meta\n",
    "\n",
    "While this paper is about exoplanet modeling and the C/O ratio, that's really not what we use it for. We use it for its description of a complicated implemenation of the Correlated-k Method. It gives some hints as to how the Quassian Guadrature can be applied, most importantly. \n",
    "\n",
    "**Goody et al, 1989**: The Correlated-k Method for Radiation Calculations in Nonhomogenous Atmospheres.\n",
    "\n",
    "https://www.sciencedirect.com/science/article/pii/0022407389900447 (Sometimes claims UoI doesn't have access, but sometimes it does, weird).\n",
    "\n",
    "Another correlated-k paper, largely redundant to the others except that it also discusses the accuracy with the *number* of Gaussian Quadruture poitns, so we can get some idea of how many points to use in our calculations. It's also shorter and simpler than some of the others. "
   ]
  },
  {
   "cell_type": "markdown",
   "id": "a3f06b53",
   "metadata": {},
   "source": [
    "# Titan Specific Models\n",
    "\n",
    "**M. Es-sayeh et al, 2023**: Updated Radiative Transfer Model for Titan in the Near-infrared Wavelength Range: Validation against Huygens Atmospheric and Surface Measurements and Application to the Cassini/VIMS Observations of the Dragonfly Landing Area.\n",
    "\n",
    "https://iopscience.iop.org/article/10.3847/PSJ/acbd37/meta\n",
    "\n",
    "This paper is primarily concerned with the description of an updated radiative transfer model for Titan's atmosphere, including new data and some better procedures. It compares the results of its previous model with the new model for the Huygens Landing Site. Of special note is the discovery of the non-integer Fractal Dimension of the aerosols; previous work had used 2, but this work finds that results work best with 2.3 or 2.4 Fractal Dimension. (Quick explanation: fractal dimension is how much an object's \"measure\" scales with doubling. Squares when doubled go like $x^2$, with a fractal dimension of 2, while cubes go like $x^3$, thus 3. The aerosol surface area is thus structured enough, or \"rough\" enough, to scale faster than a simple 2D model would imply). There is a lot of discussion on how to remove seams in VIMS images due to viewing geometry differences, and the model is also applied to Selk Crater and surrounding areas, including the Dragonfly Landing Site. This paper is a bit too crammed full of stuff, in my opinion, and could have been split up. Regardless, the ultimate goal of the model was to extract surface albedo and assign labels to different terrain types, which it appears to have succeeded at. "
   ]
  },
  {
   "cell_type": "code",
   "execution_count": null,
   "id": "27128aaf",
   "metadata": {},
   "outputs": [],
   "source": []
  }
 ],
 "metadata": {
  "kernelspec": {
   "display_name": "Python 3 (ipykernel)",
   "language": "python",
   "name": "python3"
  },
  "language_info": {
   "codemirror_mode": {
    "name": "ipython",
    "version": 3
   },
   "file_extension": ".py",
   "mimetype": "text/x-python",
   "name": "python",
   "nbconvert_exporter": "python",
   "pygments_lexer": "ipython3",
   "version": "3.11.4"
  }
 },
 "nbformat": 4,
 "nbformat_minor": 5
}
