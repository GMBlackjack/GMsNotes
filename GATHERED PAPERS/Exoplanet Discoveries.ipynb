{
 "cells": [
  {
   "cell_type": "markdown",
   "id": "0dc57fa1",
   "metadata": {},
   "source": [
    "# Exoplanet Discoveries\n",
    "\n",
    "## Finding New Things\n",
    "\n",
    "### And New Properties\n",
    "\n",
    "**Lissauer et al, 2011**: A Closely Packed system of Low-mass, Low-density Planets Transiting Kepler-11\n",
    "\n",
    "https://www.nature.com/articles/nature09760\n",
    "\n",
    "The discovery of the six-planet system of Kepler-11. All of them are very close in. Nothing too fancy but discoveries are important. \n",
    "\n",
    "**Lissauer et al, 2013**: All Six Planets Known to Orbit Kepler-11 Have Low Densities.\n",
    "\n",
    "https://iopscience.iop.org/article/10.1088/0004-637X/770/2/131/meta\n",
    "\n",
    "The title kind of explains it all. The planets aren't dense. \n",
    "\n",
    "**Madhusudhan et al, 2023**: Carbon-bearing Molecules in a Possible Hycean Atmosphere. \n",
    "\n",
    "https://arxiv.org/abs/2309.05566\n",
    "\n",
    "JWST observations of high-likelihood Hycean world K2-18 b. Detects both Carbon Dioxide and Methane. Possibly detects dimethyl sulfide, labels it a possible biosignature. The biosignature part is not only highly suspect but most people seem to think it is also premature in the extreme. The simultaneous existence of CO2 and CH4 is, however, very interesting as chemical models predict one or the other to dominate. That said uncertainties in the measurements mean one *could* be much larger than the other, though this is unlikely as they appear correlated.\n",
    "\n",
    "**Madhusudhan et al, 2021**: Habitability and Biosignatures of Hycean Worlds.\n",
    "\n",
    "https://arxiv.org/abs/2108.10888\n",
    "\n",
    "Hycean worlds are worlds that are mostly water with an extensive hydrogen atmosphere, theorized to be quite common. This paper details why we should be interested in them; namely their utterly massive habitability range. It also lists potential biosignatures that might be detected in these atmospheres from a distance.\n",
    "\n",
    "**Naponiello et al, 2023**: A Super-massive Neptune-sized Planet.\n",
    "\n",
    "https://www.nature.com/articles/s41586-023-06499-2\n",
    "\n",
    "To put it simply, we found a weird planet. It's a hot Neptune, which is rare to begin with, and it has a density far exceeding that of Earth that is hard to explain. It could be a truly massive rocky world, which doesn't make sense as it's hard to find enough rock in the entire disc to make it. Or it could be half rock and half water. Which is still a LOT of rock for a single planet. Of note: this paper doesn't show it but this is not the ONLY object of its type we've seen, there are a handful of others in this unusual density regime, so it's probably not just a random freaky fluke."
   ]
  },
  {
   "cell_type": "code",
   "execution_count": null,
   "id": "5d4e97d7",
   "metadata": {},
   "outputs": [],
   "source": []
  }
 ],
 "metadata": {
  "kernelspec": {
   "display_name": "Python 3 (ipykernel)",
   "language": "python",
   "name": "python3"
  },
  "language_info": {
   "codemirror_mode": {
    "name": "ipython",
    "version": 3
   },
   "file_extension": ".py",
   "mimetype": "text/x-python",
   "name": "python",
   "nbconvert_exporter": "python",
   "pygments_lexer": "ipython3",
   "version": "3.11.4"
  }
 },
 "nbformat": 4,
 "nbformat_minor": 5
}
