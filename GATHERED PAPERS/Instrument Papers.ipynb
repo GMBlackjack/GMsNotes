{
 "cells": [
  {
   "cell_type": "markdown",
   "id": "0dc57fa1",
   "metadata": {},
   "source": [
    "# Instruments\n",
    "\n",
    "## Sometimes ya Gotta Know 'Bout Machines\n",
    "\n",
    "### And what they can do.\n",
    "\n",
    "## Cassini\n",
    "\n",
    "**Elachi et al, 2005**: Cassini Radar Views the Surface of Titan\n",
    "\n",
    "https://www.science.org/doi/full/10.1126/science.1109919\n",
    "\n",
    "Gives an overview of the Cassini RADAR instrument and how it observed the surface of Titan. Mostly useful not for what it found but rather its description of the RADAR instrument. "
   ]
  },
  {
   "cell_type": "code",
   "execution_count": null,
   "id": "5d4e97d7",
   "metadata": {},
   "outputs": [],
   "source": []
  }
 ],
 "metadata": {
  "kernelspec": {
   "display_name": "Python 3 (ipykernel)",
   "language": "python",
   "name": "python3"
  },
  "language_info": {
   "codemirror_mode": {
    "name": "ipython",
    "version": 3
   },
   "file_extension": ".py",
   "mimetype": "text/x-python",
   "name": "python",
   "nbconvert_exporter": "python",
   "pygments_lexer": "ipython3",
   "version": "3.11.4"
  }
 },
 "nbformat": 4,
 "nbformat_minor": 5
}
