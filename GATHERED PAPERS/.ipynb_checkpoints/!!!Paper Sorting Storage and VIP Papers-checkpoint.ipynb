{
 "cells": [
  {
   "cell_type": "markdown",
   "id": "37c68c34",
   "metadata": {},
   "source": [
    "# PAPERS\n",
    "\n",
    "## They are important\n",
    "\n",
    "### And it's hard to remember where everything is\n",
    "\n",
    "So this section of the GMsNotes repository is devoted to cataloging papers that I think are useful or contain interesting information that can be referenced later. \n",
    "\n",
    "This PARTICULAR notebook holds the papers that have High Importance (hence VIP labels) or ones that just haven't been sorted anywhere yet. "
   ]
  },
  {
   "cell_type": "markdown",
   "id": "731708c7",
   "metadata": {},
   "source": [
    "## To Be Sorted\n",
    "\n",
    "### When I get around to it\n",
    "\n",
    "#### Might also be a \"read later\" list..."
   ]
  },
  {
   "cell_type": "markdown",
   "id": "0f1be94f",
   "metadata": {},
   "source": [
    "[14] **Lopes et al, 2016**: Nature, Distribution, and Origin of Titan's Undifferentiated Plains\n",
    "\n",
    "https://www.sciencedirect.com/science/article/pii/S0019103515005576\n",
    "\n",
    "[15] **Stofan et al, 2007**: The Lakes of Titan\n",
    "\n",
    "https://www.nature.com/articles/nature05438\n",
    "\n",
    "[16] **Rannou et al, 2006**: The Latitudinal Distribution of CLouds on Titan\n",
    "\n",
    "https://www.science.org/doi/full/10.1126/science.1118424\n",
    "\n",
    "[17] **Brown et al, 2002**: Direct Detection of Variable Tropospheric Clouds Near Titan's South Pole\n",
    "\n",
    "https://www.nature.com/articles/nature01302\n",
    "\n",
    "[18] **Barnes et al, 2021**: Science Goals and Objectives for the Dragonfly Titan Rotorcraft Relocatable Lander\n",
    "\n",
    "https://iopscience.iop.org/article/10.3847/PSJ/abfdcf/meta"
   ]
  },
  {
   "cell_type": "markdown",
   "id": "1e716330",
   "metadata": {},
   "source": [
    "## VIP Papers\n",
    "\n",
    "### Quick and Ready access!"
   ]
  },
  {
   "cell_type": "markdown",
   "id": "1cb00d02",
   "metadata": {},
   "source": [
    "**Soderblom et al, 2012**: Modeling Specular Reflections from Hydrocarbon Lakes on Titan. \n",
    "\n",
    "https://www.sciencedirect.com/science/article/pii/S0019103512002126\n",
    "\n",
    "Very important paper talking about how to model Specular Reflections on Titan.\n",
    "\n",
    "**Barnes et al, 2018**: Spherical Radiative Transfer in C++ (SRTC++): A Parallel Monte Carlo Radiative\n",
    "Transfer Model for Titan.\n",
    "\n",
    "https://iopscience.iop.org/article/10.3847/1538-3881/aac2db/pdf\n",
    "\n",
    "The SRTC++ paper, very important. Code that does atmospheric radiative transfer in spherical coordinates. Primarily used for Titan but could theoretically do anything. "
   ]
  },
  {
   "cell_type": "code",
   "execution_count": null,
   "id": "68306c48",
   "metadata": {},
   "outputs": [],
   "source": []
  }
 ],
 "metadata": {
  "kernelspec": {
   "display_name": "Python 3 (ipykernel)",
   "language": "python",
   "name": "python3"
  },
  "language_info": {
   "codemirror_mode": {
    "name": "ipython",
    "version": 3
   },
   "file_extension": ".py",
   "mimetype": "text/x-python",
   "name": "python",
   "nbconvert_exporter": "python",
   "pygments_lexer": "ipython3",
   "version": "3.11.4"
  }
 },
 "nbformat": 4,
 "nbformat_minor": 5
}
