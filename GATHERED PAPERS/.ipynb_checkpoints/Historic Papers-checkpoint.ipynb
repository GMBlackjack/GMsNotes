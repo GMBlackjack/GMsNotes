{
 "cells": [
  {
   "cell_type": "markdown",
   "id": "1c19b126",
   "metadata": {},
   "source": [
    "# Historic Papers\n",
    "\n",
    "## For things that are just too all-encompassing but important\n",
    "\n",
    "### Science has a path through time too\n",
    "\n",
    "**Herschel, 1847**: Astronomical Observations\n",
    "\n",
    "https://archive.org/details/Resultsastronom00Hers/page/414/mode/2up?view=theater&q=Titan\n",
    "\n",
    "This is a historical text compounding much of Herschel's astronomical observations, including nebulae, double stars, stellar magnitude, southern hemisphere observations, comets, the moons of staturn, and sunspots. The most relevant part to me is the naming of Saturhn's moons, but there's probably a ton of other stuff in here I haven't even touched. My goodness though there's a lot of tabulated raw data here... I suppose that is how it had to be before the Internet though.\n",
    "\n",
    "**Matson et al, 2002**: The Cassini/Huygens Mission to the Saturnian System\n",
    "\n",
    "https://link.springer.com/article/10.1023/A:1023609211620\n",
    "\n",
    "Historic paper that describes (in quite some detail) the (then) upcoming Cassini-Huygens mission. Useful for reference.\n",
    "\n",
    "**Spilker, 2019**: Cassini-Huygens' Exploration of the Saturn System: 13 Years of Discovery\n",
    "\n",
    "https://www.science.org/doi/full/10.1126/science.aat3760\n",
    "\n",
    "This article is a sumamry of the major discoveries of Cassini-Huygens over 13 years of operation. Good resource for examining the \"major final conclusions\" of the mission. Even though we are still combing through the data do this day...\n",
    "\n",
    "**Lebreton et al, 2009**: Results from the Huygens Probe on Titan\n",
    "\n",
    "https://link.springer.com/article/10.1007/s00159-009-0021-5\n",
    "\n",
    "Comprehensive compilation of everything Huygens found. Or most everything. I can't exactly tell if anything's been left out curretnly, mighta missed something or glossed over it. "
   ]
  },
  {
   "cell_type": "code",
   "execution_count": null,
   "id": "96d2c7a2",
   "metadata": {},
   "outputs": [],
   "source": []
  }
 ],
 "metadata": {
  "kernelspec": {
   "display_name": "Python 3 (ipykernel)",
   "language": "python",
   "name": "python3"
  },
  "language_info": {
   "codemirror_mode": {
    "name": "ipython",
    "version": 3
   },
   "file_extension": ".py",
   "mimetype": "text/x-python",
   "name": "python",
   "nbconvert_exporter": "python",
   "pygments_lexer": "ipython3",
   "version": "3.11.4"
  }
 },
 "nbformat": 4,
 "nbformat_minor": 5
}
