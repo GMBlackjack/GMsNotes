{
 "cells": [
  {
   "cell_type": "markdown",
   "id": "10dc57fc",
   "metadata": {},
   "source": [
    "# Solar System Formation\n",
    "\n",
    "## In general and specific: as a whole or individual moons, who cares.\n",
    "\n",
    "**Lunine and Tittermore, 1993**: Origins of Outer-Planet Satellites\n",
    "\n",
    "https://articles.adsabs.harvard.edu/cgi-bin/nph-iarticle_query?bibcode=1993prpl.conf.1149L&db_key=AST&page_ind=0&plate_select=NO&data_type=GIF&type=SCREEN_GIF&classic=YES\n",
    "\n",
    "This is a review that takes in other reviews to discuss moon formation. A neat resource for compounded ideas, if a bit old. While this paper is ostensibly concerned with formation, it also overviews basic facts and mysteries about the outer moons as well--good reference. Has a nice (if somewhat confusing) diagram about satellite silicate composition. Discusses theories of formation (all of which are disc based, funnily enough). (Look up later which ones are accepted now? More research has surely been done, even though formation is a very difficult question to answer). Due to its similarities to Triton, Pluto (and Charon) is also detailed here. There are many wrenches in the theories: the sideways orientation of Uranus, Triton's likely capture despite the Neptunian moons' mass ratio being the same as the other gas giants, etc. Subsequent evolution of moon orbits, tital effects, resonances... mysteries of volatiles, Titan's methane atmosphere (notably outdated don't trust it, though it does mention a deuterium enhancement, interesting, might be worth looking into for atmosphere stuff on Titan). The methane and carbon monoxide \"fight for supremacy.\"    ... this is a long paper there are 28 pages. The paper concludes by outlining how little we know about how discs form, how little we know about abundances of materials, and complaining about how weird Triton, Titan, and Pluto are."
   ]
  },
  {
   "cell_type": "code",
   "execution_count": null,
   "id": "f213e37c",
   "metadata": {},
   "outputs": [],
   "source": []
  }
 ],
 "metadata": {
  "kernelspec": {
   "display_name": "Python 3 (ipykernel)",
   "language": "python",
   "name": "python3"
  },
  "language_info": {
   "codemirror_mode": {
    "name": "ipython",
    "version": 3
   },
   "file_extension": ".py",
   "mimetype": "text/x-python",
   "name": "python",
   "nbconvert_exporter": "python",
   "pygments_lexer": "ipython3",
   "version": "3.11.4"
  }
 },
 "nbformat": 4,
 "nbformat_minor": 5
}
