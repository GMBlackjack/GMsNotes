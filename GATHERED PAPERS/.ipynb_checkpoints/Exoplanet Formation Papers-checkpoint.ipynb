{
 "cells": [
  {
   "cell_type": "markdown",
   "id": "d40648ca",
   "metadata": {},
   "source": [
    "# Exoplanet Formation\n",
    "\n",
    "## Where DO Planets Come From?\n",
    "\n",
    "**Quintana et al, 2002**: Terrestrial Planet Formation in the $\\alpha$ Centauri System.\n",
    "\n",
    "https://iopscience.iop.org/article/10.1086/341808/pdf\n",
    "\n",
    "A model discussing how terrestrial planets form in exoplanetary systems, specifically considering Alpha Centauri. \n",
    "\n",
    "**Chambers, 2018**: Planet Formation: An Optimized Population-synthesis Approach.\n",
    "\n",
    "https://iopscience.iop.org/article/10.3847/1538-4357/aada09/meta\n",
    "\n",
    "Another paper on planetary formation. What makes this one special is that it considers the effectiveness regime of other similar studies, as well as doing a *LOT* of statistical analysis and plotting of the results. Also contains a model for planetary formation via pebble accretion and gas accretion, and it considers other effects as well. "
   ]
  },
  {
   "cell_type": "code",
   "execution_count": null,
   "id": "857bfe2c",
   "metadata": {},
   "outputs": [],
   "source": []
  }
 ],
 "metadata": {
  "kernelspec": {
   "display_name": "Python 3 (ipykernel)",
   "language": "python",
   "name": "python3"
  },
  "language_info": {
   "codemirror_mode": {
    "name": "ipython",
    "version": 3
   },
   "file_extension": ".py",
   "mimetype": "text/x-python",
   "name": "python",
   "nbconvert_exporter": "python",
   "pygments_lexer": "ipython3",
   "version": "3.11.4"
  }
 },
 "nbformat": 4,
 "nbformat_minor": 5
}
