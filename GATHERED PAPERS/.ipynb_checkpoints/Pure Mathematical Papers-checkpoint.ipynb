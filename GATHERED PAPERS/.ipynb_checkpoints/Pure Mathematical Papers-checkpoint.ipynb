{
 "cells": [
  {
   "cell_type": "markdown",
   "id": "11f9fa81",
   "metadata": {},
   "source": [
    "# MATH\n",
    "\n",
    "## Sometimes you just need to reference MATH\n",
    "\n",
    "### Maf\n",
    "\n"
   ]
  },
  {
   "cell_type": "markdown",
   "id": "a67c2a9e",
   "metadata": {},
   "source": [
    "## Integrating\n",
    "\n",
    "**Golub and Welsch, 1969**: Calculation of Gauss Quadrature Rules \n",
    "\n",
    "https://www.ams.org/journals/mcom/1969-23-106/S0025-5718-69-99647-1/\n",
    "\n",
    "A mathematical paper with descriptions of the Gaussian Quadruture Rules for integral approximation. These are useful for atmospheric models, including the Correlated-k Method. But also just works for integrals in general and can be applied for exact solutions to polynomials."
   ]
  },
  {
   "cell_type": "code",
   "execution_count": null,
   "id": "7483094a",
   "metadata": {},
   "outputs": [],
   "source": []
  }
 ],
 "metadata": {
  "kernelspec": {
   "display_name": "Python 3 (ipykernel)",
   "language": "python",
   "name": "python3"
  },
  "language_info": {
   "codemirror_mode": {
    "name": "ipython",
    "version": 3
   },
   "file_extension": ".py",
   "mimetype": "text/x-python",
   "name": "python",
   "nbconvert_exporter": "python",
   "pygments_lexer": "ipython3",
   "version": "3.11.4"
  }
 },
 "nbformat": 4,
 "nbformat_minor": 5
}
