{
 "cells": [
  {
   "cell_type": "markdown",
   "id": "37c68c34",
   "metadata": {},
   "source": [
    "# PAPERS\n",
    "\n",
    "## They are important\n",
    "\n",
    "### And it's hard to remember where everything is\n",
    "\n",
    "So this section of the GMsNotes repository is devoted to cataloging papers that I think are useful or contain interesting information that can be referenced later. \n",
    "\n",
    "This PARTICULAR notebook holds the papers that have High Importance (hence VIP labels) or ones that just haven't been sorted anywhere yet. "
   ]
  },
  {
   "cell_type": "markdown",
   "id": "731708c7",
   "metadata": {},
   "source": [
    "## To Be Sorted\n",
    "\n",
    "### When I get around to it\n",
    "\n",
    "#### Might also be a \"read later\" list..."
   ]
  },
  {
   "cell_type": "markdown",
   "id": "0f1be94f",
   "metadata": {},
   "source": [
    "**Lunine and Tittermore, 1993**: Origins of Outer-Planet Satellites\n",
    "\n",
    "https://articles.adsabs.harvard.edu/cgi-bin/nph-iarticle_query?bibcode=1993prpl.conf.1149L&db_key=AST&page_ind=0&plate_select=NO&data_type=GIF&type=SCREEN_GIF&classic=YES\n",
    "\n",
    "**Coustenis et al, 2007**: The Composition of Titan's Stratosphere from Cassini/CIRS Mid-infrared Spectra\n",
    "\n",
    "https://www.sciencedirect.com/science/article/pii/S0019103507000279\n",
    "\n",
    "**Niemann et al, 2005**: The Abundances of Constituents of Titan's Atmosphere From the GCMS Instrument on the Huygens Probe\n",
    "\n",
    "https://www.nature.com/articles/nature04122\n",
    "\n",
    "**Fulchignoni et al, 2005**: In situ Measurements of the Physical Characteristics of Titan's Environment.\n",
    "\n",
    "https://www.nature.com/articles/nature04314"
   ]
  },
  {
   "cell_type": "markdown",
   "id": "1e716330",
   "metadata": {},
   "source": [
    "## VIP Papers\n",
    "\n",
    "### Quick and Ready access!"
   ]
  },
  {
   "cell_type": "markdown",
   "id": "1cb00d02",
   "metadata": {},
   "source": [
    "**Soderblom et al, 2012**: Modeling Specular Reflections from Hydrocarbon Lakes on Titan. \n",
    "\n",
    "https://www.sciencedirect.com/science/article/pii/S0019103512002126\n",
    "\n",
    "Very important paper talking about how to model Specular Reflections on Titan.\n",
    "\n",
    "**Barnes et al, 2018**: Spherical Radiative Transfer in C++ (SRTC++): A Parallel Monte Carlo Radiative\n",
    "Transfer Model for Titan.\n",
    "\n",
    "https://iopscience.iop.org/article/10.3847/1538-3881/aac2db/pdf\n",
    "\n",
    "The SRTC++ paper, very important. Code that does atmospheric radiative transfer in spherical coordinates. Primarily used for Titan but could theoretically do anything. \n",
    "\n",
    "**Barnes et al, 2021**: Science Goals and Objectives for the Dragonfly Titan Rotorcraft Relocatable Lander\n",
    "\n",
    "https://iopscience.iop.org/article/10.3847/PSJ/abfdcf/meta\n",
    "\n",
    "Here's what Dragonfly is doing. Understandably important. Read it for mission goal details and the like."
   ]
  },
  {
   "cell_type": "markdown",
   "id": "14b4f6fb",
   "metadata": {},
   "source": [
    "**Lopes et al, 2020**: A Global Geomorphologic Map of Saturn's Moon Titan\n",
    "\n",
    "https://www.ncbi.nlm.nih.gov/pmc/articles/PMC7271969/\n",
    "    \n",
    "This is the paper with all the terrain maps splitting Titan up into six types of areas: lakes, craters, dunes, hummocky stuff, labyrinths, and plains. Notably craters are questionable as a \"terrain type\" and only some of the lakes are actually filled with liquid. Good place to refer to basic descriptions of each of these. Excellent map to boot, though not very high resolution, and can be questionable in interpretaion. A good general place to go. \n",
    "\n",
    "**Hayes, 2016**: The Lakes and Seas of Titan\n",
    "\n",
    "https://www.annualreviews.org/doi/pdf/10.1146/annurev-earth-060115-012247\n",
    "\n",
    "An excellent summary of research concerning the lakes and seas of Titan. As a review it probably shouldn't be cited itself, but it can point to other citations, and goes into enough detail to showcase what facts about the seas we know and which ones are particuarly relevant / the subject of current study. "
   ]
  },
  {
   "cell_type": "code",
   "execution_count": null,
   "id": "3b95c6e8",
   "metadata": {},
   "outputs": [],
   "source": []
  }
 ],
 "metadata": {
  "kernelspec": {
   "display_name": "Python 3 (ipykernel)",
   "language": "python",
   "name": "python3"
  },
  "language_info": {
   "codemirror_mode": {
    "name": "ipython",
    "version": 3
   },
   "file_extension": ".py",
   "mimetype": "text/x-python",
   "name": "python",
   "nbconvert_exporter": "python",
   "pygments_lexer": "ipython3",
   "version": "3.11.4"
  }
 },
 "nbformat": 4,
 "nbformat_minor": 5
}
