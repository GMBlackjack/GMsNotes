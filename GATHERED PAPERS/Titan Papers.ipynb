{
 "cells": [
  {
   "cell_type": "markdown",
   "id": "355b418c",
   "metadata": {},
   "source": [
    "# Titan Papers\n",
    "\n",
    "## The Big One\n",
    "\n",
    "### This is going to demand I subdivide isn't it?"
   ]
  },
  {
   "cell_type": "markdown",
   "id": "398a27e8",
   "metadata": {},
   "source": [
    "## Atmosphere\n",
    "\n",
    "**M. Es-sayeh et al, 2023**: Updated Radiative Transfer Model for Titan in the Near-infrared Wavelength Range: Validation against Huygens Atmospheric and Surface Measurements and Application to the Cassini/VIMS Observations of the Dragonfly Landing Area.\n",
    "\n",
    "https://iopscience.iop.org/article/10.3847/PSJ/acbd37/meta\n",
    "\n",
    "This paper is primarily concerned with the description of an updated radiative transfer model for Titan's atmosphere, including new data and some better procedures. It compares the results of its previous model with the new model for the Huygens Landing Site. Of special note is the discovery of the non-integer Fractal Dimension of the aerosols; previous work had used 2, but this work finds that results work best with 2.3 or 2.4 Fractal Dimension. (Quick explanation: fractal dimension is how much an object's \"measure\" scales with doubling. Squares when doubled go like $x^2$, with a fractal dimension of 2, while cubes go like $x^3$, thus 3. The aerosol surface area is thus structured enough, or \"rough\" enough, to scale faster than a simple 2D model would imply). There is a lot of discussion on how to remove seams in VIMS images due to viewing geometry differences, and the model is also applied to Selk Crater and surrounding areas, including the Dragonfly Landing Site. This paper is a bit too crammed full of stuff, in my opinion, and could have been split up. Regardless, the ultimate goal of the model was to extract surface albedo and assign labels to different terrain types, which it appears to have succeeded at. \n",
    "\n",
    "**Barnes et al, 2018**: Titan's Twilight and Sunset Solar Illumination\n",
    "\n",
    "https://iopscience.iop.org/article/10.3847/1538-3881/aae519/meta\n",
    "\n",
    "A great example paper of using SRTC++ in an actual application, especially one that's not the most obvious--using sections of Titan's surface as the detectors. It generates what Titan susnets would look at from different wavelengths, including visible. (Wait, weren't we not very good otuside of the IR windows? Check with Dr. Barnes about this). Also just nice pictures.\n",
    "\n",
    "**Barnes et al, 2020**: Diffraction-limited Titan Surface Imaging from Orbit Using Near-infrared Atmospheric Windows\n",
    "\n",
    "https://iopscience.iop.org/article/10.3847/PSJ/ab91b6/meta\n",
    "\n",
    "Compares a SRTC++ code with an analytic code for how high of a resolution could we expect to get from a Titan orbiter. Turns out, answer is about 20 meter pixels. Shows that SRTC++ has some improvements over the analytical version largely due to the inclusion of the forward-scattering function. Also splits up components of what is detected from direct-from-surface to atmospheric to surface-then-atmospheric-scattering. The differneces are striking at different wavelengths."
   ]
  },
  {
   "cell_type": "markdown",
   "id": "11c07f72",
   "metadata": {},
   "source": [
    "## Lakes\n",
    "\n",
    "**Vixie et al, 2015**: Possible Temperate Lakes on Titan.\n",
    "\n",
    "https://www.sciencedirect.com/science/article/pii/S0019103515002110\n",
    "\n",
    "The only confirmed lakes of Titan are on the poles, but here we have evidence of *possible* lakes in mid-latitude regions. The actual identity is still shrouded in mystery, and this paper is part of the reason we need better radiative transfer models so we can determine if these are really lakes or not. Has locations of many potential candidates, and includes a discusison on Griffith et all 2012's equatorial candidate. This paper can't rule it out entirely but it does not think the equatorial candidate has the right properties.\n",
    "\n",
    "**Griffith et al, 2012**: Possible Tropical Lakes on Titan From Observations of Dark Terrain.\n",
    "\n",
    "https://www.nature.com/articles/nature11165\n",
    "\n",
    "A mysterious dark spot on Titan that might be an equatorial lake. However, other papers I read cast doubt on this claim, but it is a possible candidate for later research once we have a radiative transfer model running. "
   ]
  },
  {
   "cell_type": "code",
   "execution_count": null,
   "id": "b2d28fa4",
   "metadata": {},
   "outputs": [],
   "source": []
  }
 ],
 "metadata": {
  "kernelspec": {
   "display_name": "Python 3 (ipykernel) auto",
   "language": "python",
   "name": "python3"
  },
  "language_info": {
   "codemirror_mode": {
    "name": "ipython",
    "version": 3
   },
   "file_extension": ".py",
   "mimetype": "text/x-python",
   "name": "python",
   "nbconvert_exporter": "python",
   "pygments_lexer": "ipython3",
   "version": "3.9.17"
  }
 },
 "nbformat": 4,
 "nbformat_minor": 5
}
